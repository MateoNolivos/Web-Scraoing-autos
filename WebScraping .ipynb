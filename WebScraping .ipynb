{
 "cells": [
  {
   "cell_type": "code",
   "execution_count": 1,
   "id": "37563f38",
   "metadata": {},
   "outputs": [],
   "source": [
    "from bs4 import BeautifulSoup\n",
    "import requests\n",
    "# bs4 BeautifulSoup y requests\n",
    "# requests - código html "
   ]
  },
  {
   "cell_type": "code",
   "execution_count": 3,
   "id": "fa2fbf9f",
   "metadata": {},
   "outputs": [
    {
     "name": "stderr",
     "output_type": "stream",
     "text": [
      "/var/folders/t4/sw9j3r9902vd5vzs415gzt8r0000gn/T/ipykernel_72103/3809101754.py:7: DeprecationWarning: executable_path has been deprecated, please pass in a Service object\n",
      "  driver = webdriver.Chrome(path)\n"
     ]
    }
   ],
   "source": [
    "from selenium import webdriver \n",
    "website = \"https://www.adamchoi.co.uk/teamgoals/detailed\"\n",
    "# ruta del chromedriver \n",
    "\n",
    "path = \"/Users/macbookair/Downloads/chromedriver\"\n",
    "\n",
    "driver = webdriver.Chrome(path)\n",
    "driver.get(website)\n"
   ]
  },
  {
   "cell_type": "code",
   "execution_count": 2,
   "id": "75065b7c",
   "metadata": {},
   "outputs": [],
   "source": [
    "from selenium import webdriver \n",
    "from selenium.webdriver.common.by import By\n",
    "from selenium.webdriver.support.wait import WebDriverWait\n",
    "from selenium.webdriver.support import expected_conditions as EC\n",
    "from bs4 import BeautifulSoup\n",
    "import pandas as pd "
   ]
  },
  {
   "cell_type": "code",
   "execution_count": 7,
   "id": "416178b2",
   "metadata": {
    "scrolled": true
   },
   "outputs": [
    {
     "name": "stderr",
     "output_type": "stream",
     "text": [
      "/var/folders/t4/sw9j3r9902vd5vzs415gzt8r0000gn/T/ipykernel_72103/105669859.py:4: DeprecationWarning: executable_path has been deprecated, please pass in a Service object\n",
      "  driver = webdriver.Chrome(path)\n"
     ]
    },
    {
     "data": {
      "text/plain": [
       "<selenium.webdriver.remote.webelement.WebElement (session=\"63ff784e545a4082d95689e9b041ac93\", element=\"56b66011-048d-409b-bcf4-e8dad25e85d4\")>"
      ]
     },
     "execution_count": 7,
     "metadata": {},
     "output_type": "execute_result"
    }
   ],
   "source": [
    "#Configurar herramienta de navegación \n",
    "url = \"https://ecuador.patiotuerca.com/usados/-/autos\"\n",
    "path = \"/Users/macbookair/Downloads/chromedriver\"\n",
    "driver = webdriver.Chrome(path)\n",
    "driver.get(url)\n",
    "\n"
   ]
  },
  {
   "cell_type": "code",
   "execution_count": 15,
   "id": "11928a9e",
   "metadata": {},
   "outputs": [
    {
     "name": "stdout",
     "output_type": "stream",
     "text": [
      "6\n",
      "12\n",
      "24\n",
      "48\n",
      "96\n",
      "192\n"
     ]
    }
   ],
   "source": [
    "# Guradar lista de vehículos \n",
    "\n",
    "car_l = driver.find_element(By.CLASS_NAME,\"usedList.half-banner.full-item\")\n",
    "\n",
    "# Elaborar una lista de vehículos// siempre poner espacioes de vehículos con puntos\n",
    "cars = driver.find_elements(By.CLASS_NAME,\"col.vehicle-item.xl3.l4.m6.s12.order-a\")\n",
    "\n",
    "# Añadir los carros restantes \n",
    "letters = \"bcdefg\"\n",
    "\n",
    "for letter in letters: \n",
    "    cars1 = car_l.find_elements(By.CLASS_NAME,f\"col.vehicle-item.xl3.l4.m6.s12.order-{letter}\")\n",
    "    cars.extend(cars)\n",
    "    print(len(cars))"
   ]
  },
  {
   "cell_type": "code",
   "execution_count": 21,
   "id": "1c402817",
   "metadata": {},
   "outputs": [],
   "source": [
    "primero = cars[0].click()\n",
    "# Hacer que el webdriver abra la pestaña que acabamos de abrir\n",
    "\n",
    "tabs = driver.window_handles\n",
    "driver.switch_to.window(tabs[1])\n",
    "\n"
   ]
  },
  {
   "cell_type": "code",
   "execution_count": 64,
   "id": "c0de6d5d",
   "metadata": {},
   "outputs": [
    {
     "name": "stdout",
     "output_type": "stream",
     "text": [
      "<div class=\"row m-t\">\n",
      "<div class=\"col l3 m3 s6 p-b\" title=\"\">\n",
      "<meta content=\"2009\" itemprop=\"modelDate\"/>\n",
      "<small class=\"block size-small m-none latam-secondary-text text-lighten-2\">Año</small>\n",
      "                    2009\n",
      "              </div>\n",
      "<div class=\"col l3 m3 s6 p-b\" title=\"\">\n",
      "<span class=\"hide\" itemprop=\"additionalProperty\" itemscope=\"\" itemtype=\"http://schema.org/PropertyValue\"><meta content=\"Ciudad\" itemprop=\"name\"/><meta content=\"Quito\" itemprop=\"value\"/></span>\n",
      "<small class=\"block size-small m-none latam-secondary-text text-lighten-2\">Ciudad</small>\n",
      "                    Quito\n",
      "              </div>\n",
      "<div class=\"col l3 m3 s6 p-b\" title=\"\">\n",
      "<meta content=\"153000 Kms\" itemprop=\"mileageFromOdometer\"/>\n",
      "<small class=\"block size-small m-none latam-secondary-text text-lighten-2\">Recorrido</small>\n",
      "                    153000 Kms\n",
      "              </div>\n",
      "<div class=\"col l3 m3 s6 p-b\" title=\"\">\n",
      "<span class=\"hide\" itemprop=\"additionalProperty\" itemscope=\"\" itemtype=\"http://schema.org/PropertyValue\"><meta content=\"Tipo de pago\" itemprop=\"name\"/><meta content=\"Negociable\" itemprop=\"value\"/></span>\n",
      "<small class=\"block size-small m-none latam-secondary-text text-lighten-2\">Tipo de pago</small>\n",
      "                    Negociable\n",
      "              </div>\n",
      "<div class=\"col l3 m3 s6 p-b\" title=\"\">\n",
      "<span class=\"hide\" itemprop=\"additionalProperty\" itemscope=\"\" itemtype=\"http://schema.org/PropertyValue\"><meta content=\"Precio Contado\" itemprop=\"name\"/><meta content=\"$23.900\" itemprop=\"value\"/></span>\n",
      "<small class=\"block size-small m-none latam-secondary-text text-lighten-2\">Precio Contado</small>\n",
      "                    $23.900\n",
      "              </div>\n",
      "</div>\n",
      "5\n"
     ]
    },
    {
     "data": {
      "text/plain": [
       "'\\n\\nAño\\n                    2009\\n              '"
      ]
     },
     "metadata": {},
     "output_type": "display_data"
    },
    {
     "name": "stdout",
     "output_type": "stream",
     "text": [
      "Año                    2009              \n",
      "['Año', '', '', '', '', '', '', '', '', '', '2009', '', '', '', '', '', '', '']\n",
      "['Año', '', '', '', '', '', '', '', '', '2009', '', '', '', '', '', '', '']\n",
      "['Año', '', '', '', '', '', '', '', '2009', '', '', '', '', '', '', '']\n",
      "['Año', '', '', '', '', '', '', '2009', '', '', '', '', '', '', '']\n",
      "['Año', '', '', '', '', '', '2009', '', '', '', '', '', '', '']\n",
      "['Año', '', '', '', '', '2009', '', '', '', '', '', '', '']\n",
      "['Año', '', '', '', '2009', '', '', '', '', '', '', '']\n",
      "['Año', '', '', '2009', '', '', '', '', '', '', '']\n",
      "['Año', '', '2009', '', '', '', '', '', '', '']\n",
      "['Año', '2009', '', '', '', '', '', '', '']\n",
      "['Año', '2009', '', '', '', '', '', '']\n",
      "['Año', '2009', '', '', '', '', '']\n",
      "['Año', '2009', '', '', '', '']\n",
      "['Año', '2009', '', '', '']\n",
      "['Año', '2009', '', '']\n",
      "['Año', '2009', '']\n",
      "['Año', '2009']\n",
      "('Año', '2009')\n",
      "Ciudad                    Quito              \n",
      "['Ciudad', '', '', '', '', '', '', '', '', '', 'Quito', '', '', '', '', '', '', '']\n",
      "['Ciudad', '', '', '', '', '', '', '', '', 'Quito', '', '', '', '', '', '', '']\n",
      "['Ciudad', '', '', '', '', '', '', '', 'Quito', '', '', '', '', '', '', '']\n",
      "['Ciudad', '', '', '', '', '', '', 'Quito', '', '', '', '', '', '', '']\n",
      "['Ciudad', '', '', '', '', '', 'Quito', '', '', '', '', '', '', '']\n",
      "['Ciudad', '', '', '', '', 'Quito', '', '', '', '', '', '', '']\n",
      "['Ciudad', '', '', '', 'Quito', '', '', '', '', '', '', '']\n",
      "['Ciudad', '', '', 'Quito', '', '', '', '', '', '', '']\n",
      "['Ciudad', '', 'Quito', '', '', '', '', '', '', '']\n",
      "['Ciudad', 'Quito', '', '', '', '', '', '', '']\n",
      "['Ciudad', 'Quito', '', '', '', '', '', '']\n",
      "['Ciudad', 'Quito', '', '', '', '', '']\n",
      "['Ciudad', 'Quito', '', '', '', '']\n",
      "['Ciudad', 'Quito', '', '', '']\n",
      "['Ciudad', 'Quito', '', '']\n",
      "['Ciudad', 'Quito', '']\n",
      "['Ciudad', 'Quito']\n",
      "('Ciudad', 'Quito')\n",
      "Recorrido                    153000 Kms              \n",
      "['Recorrido', '', '', '', '', '', '', '', '', '', '153000 Kms', '', '', '', '', '', '', '']\n",
      "['Recorrido', '', '', '', '', '', '', '', '', '153000 Kms', '', '', '', '', '', '', '']\n",
      "['Recorrido', '', '', '', '', '', '', '', '153000 Kms', '', '', '', '', '', '', '']\n",
      "['Recorrido', '', '', '', '', '', '', '153000 Kms', '', '', '', '', '', '', '']\n",
      "['Recorrido', '', '', '', '', '', '153000 Kms', '', '', '', '', '', '', '']\n",
      "['Recorrido', '', '', '', '', '153000 Kms', '', '', '', '', '', '', '']\n",
      "['Recorrido', '', '', '', '153000 Kms', '', '', '', '', '', '', '']\n",
      "['Recorrido', '', '', '153000 Kms', '', '', '', '', '', '', '']\n",
      "['Recorrido', '', '153000 Kms', '', '', '', '', '', '', '']\n",
      "['Recorrido', '153000 Kms', '', '', '', '', '', '', '']\n",
      "['Recorrido', '153000 Kms', '', '', '', '', '', '']\n",
      "['Recorrido', '153000 Kms', '', '', '', '', '']\n",
      "['Recorrido', '153000 Kms', '', '', '', '']\n",
      "['Recorrido', '153000 Kms', '', '', '']\n",
      "['Recorrido', '153000 Kms', '', '']\n",
      "['Recorrido', '153000 Kms', '']\n",
      "['Recorrido', '153000 Kms']\n",
      "('Recorrido', '153000 Kms')\n",
      "Tipo de pago                    Negociable              \n",
      "['Tipo de pago', '', '', '', '', '', '', '', '', '', 'Negociable', '', '', '', '', '', '', '']\n",
      "['Tipo de pago', '', '', '', '', '', '', '', '', 'Negociable', '', '', '', '', '', '', '']\n",
      "['Tipo de pago', '', '', '', '', '', '', '', 'Negociable', '', '', '', '', '', '', '']\n",
      "['Tipo de pago', '', '', '', '', '', '', 'Negociable', '', '', '', '', '', '', '']\n",
      "['Tipo de pago', '', '', '', '', '', 'Negociable', '', '', '', '', '', '', '']\n",
      "['Tipo de pago', '', '', '', '', 'Negociable', '', '', '', '', '', '', '']\n",
      "['Tipo de pago', '', '', '', 'Negociable', '', '', '', '', '', '', '']\n",
      "['Tipo de pago', '', '', 'Negociable', '', '', '', '', '', '', '']\n",
      "['Tipo de pago', '', 'Negociable', '', '', '', '', '', '', '']\n",
      "['Tipo de pago', 'Negociable', '', '', '', '', '', '', '']\n",
      "['Tipo de pago', 'Negociable', '', '', '', '', '', '']\n",
      "['Tipo de pago', 'Negociable', '', '', '', '', '']\n",
      "['Tipo de pago', 'Negociable', '', '', '', '']\n",
      "['Tipo de pago', 'Negociable', '', '', '']\n",
      "['Tipo de pago', 'Negociable', '', '']\n",
      "['Tipo de pago', 'Negociable', '']\n",
      "['Tipo de pago', 'Negociable']\n",
      "('Tipo de pago', 'Negociable')\n",
      "Precio Contado                    $23.900              \n",
      "['Precio Contado', '', '', '', '', '', '', '', '', '', '$23.900', '', '', '', '', '', '', '']\n",
      "['Precio Contado', '', '', '', '', '', '', '', '', '$23.900', '', '', '', '', '', '', '']\n",
      "['Precio Contado', '', '', '', '', '', '', '', '$23.900', '', '', '', '', '', '', '']\n",
      "['Precio Contado', '', '', '', '', '', '', '$23.900', '', '', '', '', '', '', '']\n",
      "['Precio Contado', '', '', '', '', '', '$23.900', '', '', '', '', '', '', '']\n",
      "['Precio Contado', '', '', '', '', '$23.900', '', '', '', '', '', '', '']\n",
      "['Precio Contado', '', '', '', '$23.900', '', '', '', '', '', '', '']\n",
      "['Precio Contado', '', '', '$23.900', '', '', '', '', '', '', '']\n",
      "['Precio Contado', '', '$23.900', '', '', '', '', '', '', '']\n",
      "['Precio Contado', '$23.900', '', '', '', '', '', '', '']\n",
      "['Precio Contado', '$23.900', '', '', '', '', '', '']\n",
      "['Precio Contado', '$23.900', '', '', '', '', '']\n",
      "['Precio Contado', '$23.900', '', '', '', '']\n",
      "['Precio Contado', '$23.900', '', '', '']\n",
      "['Precio Contado', '$23.900', '', '']\n",
      "['Precio Contado', '$23.900', '']\n",
      "['Precio Contado', '$23.900']\n",
      "('Precio Contado', '$23.900')\n",
      "<section class=\"row m-t list-data\" id=\"technicalData\">\n",
      "<h3 class=\"regular size-h4\">Ficha técnica Mitsubishi Montero 5P</h3>\n",
      "<div class=\"separator clearfix latam-secondary lighten-3\"></div>\n",
      "<div class=\"col l4 m6 s6\">\n",
      "<meta content=\"1730936\" itemprop=\"productID\"/>\n",
      "<p class=\"m-none\"><small class=\"latam-secondary-text text-lighten-2 truncate\">Publicación</small>\n",
      "<span class=\"truncate\">#1730936</span>\n",
      "</p>\n",
      "</div>\n",
      "<div class=\"col l4 m6 s6\">\n",
      "<meta content=\"Mitsubishi\" itemprop=\"brand\"/>\n",
      "<p class=\"m-none\"><small class=\"latam-secondary-text text-lighten-2 truncate\">Marca</small>\n",
      "<span class=\"truncate\">Mitsubishi</span>\n",
      "</p>\n",
      "</div>\n",
      "<div class=\"col l4 m6 s6\">\n",
      "<meta content=\"Montero 5P\" itemprop=\"model\"/>\n",
      "<p class=\"m-none\"><small class=\"latam-secondary-text text-lighten-2 truncate\">Modelo</small>\n",
      "<span class=\"truncate\">Montero 5P</span>\n",
      "</p>\n",
      "</div>\n",
      "<div class=\"col l4 m6 s6\">\n",
      "<meta content=\"Todoterreno\" itemprop=\"bodyType\"/>\n",
      "<p class=\"m-none\"><small class=\"latam-secondary-text text-lighten-2 truncate\">Subtipo</small>\n",
      "<span class=\"truncate\">Todoterreno</span>\n",
      "</p>\n",
      "</div>\n",
      "<div class=\"col l4 m6 s6\">\n",
      "<meta content=\"153000 Kms\" itemprop=\"mileageFromOdometer\"/>\n",
      "<p class=\"m-none\"><small class=\"latam-secondary-text text-lighten-2 truncate\">Recorrido</small>\n",
      "<span class=\"truncate\">153000 Kms</span>\n",
      "</p>\n",
      "</div>\n",
      "<div class=\"col l4 m6 s6\">\n",
      "<span class=\"hide\" itemprop=\"additionalProperty\" itemscope=\"\" itemtype=\"http://schema.org/PropertyValue\"><meta content=\"Sistema de climatización\" itemprop=\"name\"/><meta content=\"Climatizador\" itemprop=\"value\"/></span>\n",
      "<p class=\"m-none\"><small class=\"latam-secondary-text text-lighten-2 truncate\">Sistema de climatización</small>\n",
      "<span class=\"truncate\">Climatizador</span>\n",
      "</p>\n",
      "</div>\n",
      "<div class=\"col l4 m6 s6\">\n",
      "<span class=\"hide\" itemprop=\"additionalProperty\" itemscope=\"\" itemtype=\"http://schema.org/PropertyValue\"><meta content=\"Tracción\" itemprop=\"name\"/><meta content=\"4 x 4\" itemprop=\"value\"/></span>\n",
      "<p class=\"m-none\"><small class=\"latam-secondary-text text-lighten-2 truncate\">Tracción</small>\n",
      "<span class=\"truncate\">4 x 4</span>\n",
      "</p>\n",
      "</div>\n",
      "<div class=\"col l4 m6 s6\">\n",
      "<meta content=\"Blanco\" itemprop=\"color\"/>\n",
      "<p class=\"m-none\"><small class=\"latam-secondary-text text-lighten-2 truncate\">Color</small>\n",
      "<span class=\"truncate\">Blanco</span>\n",
      "</p>\n",
      "</div>\n",
      "<div class=\"col l4 m6 s6\">\n",
      "<span class=\"hide\" itemprop=\"additionalProperty\" itemscope=\"\" itemtype=\"http://schema.org/PropertyValue\"><meta content=\"Último número de la placa\" itemprop=\"name\"/><meta content=\"3\" itemprop=\"value\"/></span>\n",
      "<p class=\"m-none\"><small class=\"latam-secondary-text text-lighten-2 truncate\">Último número de la placa</small>\n",
      "<span class=\"truncate\">3</span>\n",
      "</p>\n",
      "</div>\n",
      "<div class=\"col l4 m6 s6\">\n",
      "<span class=\"hide\" itemprop=\"additionalProperty\" itemscope=\"\" itemtype=\"http://schema.org/PropertyValue\"><meta content=\"Vidrios\" itemprop=\"name\"/><meta content=\"Eléctricos\" itemprop=\"value\"/></span>\n",
      "<p class=\"m-none\"><small class=\"latam-secondary-text text-lighten-2 truncate\">Vidrios</small>\n",
      "<span class=\"truncate\">Eléctricos</span>\n",
      "</p>\n",
      "</div>\n",
      "<div class=\"col l4 m6 s6\">\n",
      "<span class=\"hide\" itemprop=\"additionalProperty\" itemscope=\"\" itemtype=\"http://schema.org/PropertyValue\"><meta content=\"Transmisión\" itemprop=\"name\"/><meta content=\"Automática\" itemprop=\"value\"/></span>\n",
      "<p class=\"m-none\"><small class=\"latam-secondary-text text-lighten-2 truncate\">Transmisión</small>\n",
      "<span class=\"truncate\">Automática</span>\n",
      "</p>\n",
      "</div>\n",
      "<div class=\"col l4 m6 s6\">\n",
      "<span class=\"hide\" itemprop=\"additionalProperty\" itemscope=\"\" itemtype=\"http://schema.org/PropertyValue\"><meta content=\"Dirección\" itemprop=\"name\"/><meta content=\"Asistida\" itemprop=\"value\"/></span>\n",
      "<p class=\"m-none\"><small class=\"latam-secondary-text text-lighten-2 truncate\">Dirección</small>\n",
      "<span class=\"truncate\">Asistida</span>\n",
      "</p>\n",
      "</div>\n",
      "<div class=\"col l4 m6 s6\">\n",
      "<meta content=\"3800\" itemprop=\"vehicleEngine\"/>\n",
      "<p class=\"m-none\"><small class=\"latam-secondary-text text-lighten-2 truncate\">Motor(cilindraje)</small>\n",
      "<span class=\"truncate\">3800</span>\n",
      "</p>\n",
      "</div>\n",
      "<div class=\"col l4 m6 s6\">\n",
      "<meta content=\"Tela\" itemprop=\"vehicleInteriorType\"/>\n",
      "<p class=\"m-none\"><small class=\"latam-secondary-text text-lighten-2 truncate\">Tapizado</small>\n",
      "<span class=\"truncate\">Tela</span>\n",
      "</p>\n",
      "</div>\n",
      "<div class=\"col l4 m6 s6\">\n",
      "<meta content=\"Gasolina\" itemprop=\"fuelType\"/>\n",
      "<p class=\"m-none\"><small class=\"latam-secondary-text text-lighten-2 truncate\">Combustible</small>\n",
      "<span class=\"truncate\">Gasolina</span>\n",
      "</p>\n",
      "</div>\n",
      "<div class=\"col l4 m6 s6\">\n",
      "<span class=\"hide\" itemprop=\"additionalProperty\" itemscope=\"\" itemtype=\"http://schema.org/PropertyValue\"><meta content=\"Placa\" itemprop=\"name\"/><meta content=\"Pichincha\" itemprop=\"value\"/></span>\n",
      "<p class=\"m-none\"><small class=\"latam-secondary-text text-lighten-2 truncate\">Placa</small>\n",
      "<span class=\"truncate\">Pichincha</span>\n",
      "</p>\n",
      "</div>\n",
      "</section>\n",
      "16\n"
     ]
    },
    {
     "data": {
      "text/plain": [
       "'\\n\\nPublicación\\n#1730936\\n\\n'"
      ]
     },
     "metadata": {},
     "output_type": "display_data"
    },
    {
     "name": "stdout",
     "output_type": "stream",
     "text": [
      "['', '', 'Publicación', '#1730936', '', '']\n",
      "['', 'Publicación', '#1730936', '', '']\n",
      "['Publicación', '#1730936', '', '']\n",
      "['Publicación', '#1730936', '']\n",
      "['Publicación', '#1730936']\n"
     ]
    },
    {
     "data": {
      "text/plain": [
       "'\\n\\nMarca\\nMitsubishi\\n\\n'"
      ]
     },
     "metadata": {},
     "output_type": "display_data"
    },
    {
     "name": "stdout",
     "output_type": "stream",
     "text": [
      "['', '', 'Marca', 'Mitsubishi', '', '']\n",
      "['', 'Marca', 'Mitsubishi', '', '']\n",
      "['Marca', 'Mitsubishi', '', '']\n",
      "['Marca', 'Mitsubishi', '']\n",
      "['Marca', 'Mitsubishi']\n"
     ]
    },
    {
     "data": {
      "text/plain": [
       "'\\n\\nModelo\\nMontero 5P\\n\\n'"
      ]
     },
     "metadata": {},
     "output_type": "display_data"
    },
    {
     "name": "stdout",
     "output_type": "stream",
     "text": [
      "['', '', 'Modelo', 'Montero 5P', '', '']\n",
      "['', 'Modelo', 'Montero 5P', '', '']\n",
      "['Modelo', 'Montero 5P', '', '']\n",
      "['Modelo', 'Montero 5P', '']\n",
      "['Modelo', 'Montero 5P']\n"
     ]
    },
    {
     "data": {
      "text/plain": [
       "'\\n\\nSubtipo\\nTodoterreno\\n\\n'"
      ]
     },
     "metadata": {},
     "output_type": "display_data"
    },
    {
     "name": "stdout",
     "output_type": "stream",
     "text": [
      "['', '', 'Subtipo', 'Todoterreno', '', '']\n",
      "['', 'Subtipo', 'Todoterreno', '', '']\n",
      "['Subtipo', 'Todoterreno', '', '']\n",
      "['Subtipo', 'Todoterreno', '']\n",
      "['Subtipo', 'Todoterreno']\n"
     ]
    },
    {
     "data": {
      "text/plain": [
       "'\\n\\nRecorrido\\n153000 Kms\\n\\n'"
      ]
     },
     "metadata": {},
     "output_type": "display_data"
    },
    {
     "name": "stdout",
     "output_type": "stream",
     "text": [
      "['', '', 'Recorrido', '153000 Kms', '', '']\n",
      "['', 'Recorrido', '153000 Kms', '', '']\n",
      "['Recorrido', '153000 Kms', '', '']\n",
      "['Recorrido', '153000 Kms', '']\n",
      "['Recorrido', '153000 Kms']\n"
     ]
    },
    {
     "data": {
      "text/plain": [
       "'\\n\\nSistema de climatización\\nClimatizador\\n\\n'"
      ]
     },
     "metadata": {},
     "output_type": "display_data"
    },
    {
     "name": "stdout",
     "output_type": "stream",
     "text": [
      "['', '', 'Sistema de climatización', 'Climatizador', '', '']\n",
      "['', 'Sistema de climatización', 'Climatizador', '', '']\n",
      "['Sistema de climatización', 'Climatizador', '', '']\n",
      "['Sistema de climatización', 'Climatizador', '']\n",
      "['Sistema de climatización', 'Climatizador']\n"
     ]
    },
    {
     "data": {
      "text/plain": [
       "'\\n\\nTracción\\n4 x 4\\n\\n'"
      ]
     },
     "metadata": {},
     "output_type": "display_data"
    },
    {
     "name": "stdout",
     "output_type": "stream",
     "text": [
      "['', '', 'Tracción', '4 x 4', '', '']\n",
      "['', 'Tracción', '4 x 4', '', '']\n",
      "['Tracción', '4 x 4', '', '']\n",
      "['Tracción', '4 x 4', '']\n",
      "['Tracción', '4 x 4']\n"
     ]
    },
    {
     "data": {
      "text/plain": [
       "'\\n\\nColor\\nBlanco\\n\\n'"
      ]
     },
     "metadata": {},
     "output_type": "display_data"
    },
    {
     "name": "stdout",
     "output_type": "stream",
     "text": [
      "['', '', 'Color', 'Blanco', '', '']\n",
      "['', 'Color', 'Blanco', '', '']\n",
      "['Color', 'Blanco', '', '']\n",
      "['Color', 'Blanco', '']\n",
      "['Color', 'Blanco']\n"
     ]
    },
    {
     "data": {
      "text/plain": [
       "'\\n\\nÚltimo número de la placa\\n3\\n\\n'"
      ]
     },
     "metadata": {},
     "output_type": "display_data"
    },
    {
     "name": "stdout",
     "output_type": "stream",
     "text": [
      "['', '', 'Último número de la placa', '3', '', '']\n",
      "['', 'Último número de la placa', '3', '', '']\n",
      "['Último número de la placa', '3', '', '']\n",
      "['Último número de la placa', '3', '']\n",
      "['Último número de la placa', '3']\n"
     ]
    },
    {
     "data": {
      "text/plain": [
       "'\\n\\nVidrios\\nEléctricos\\n\\n'"
      ]
     },
     "metadata": {},
     "output_type": "display_data"
    },
    {
     "name": "stdout",
     "output_type": "stream",
     "text": [
      "['', '', 'Vidrios', 'Eléctricos', '', '']\n",
      "['', 'Vidrios', 'Eléctricos', '', '']\n",
      "['Vidrios', 'Eléctricos', '', '']\n",
      "['Vidrios', 'Eléctricos', '']\n",
      "['Vidrios', 'Eléctricos']\n"
     ]
    },
    {
     "data": {
      "text/plain": [
       "'\\n\\nTransmisión\\nAutomática\\n\\n'"
      ]
     },
     "metadata": {},
     "output_type": "display_data"
    },
    {
     "name": "stdout",
     "output_type": "stream",
     "text": [
      "['', '', 'Transmisión', 'Automática', '', '']\n",
      "['', 'Transmisión', 'Automática', '', '']\n",
      "['Transmisión', 'Automática', '', '']\n",
      "['Transmisión', 'Automática', '']\n",
      "['Transmisión', 'Automática']\n"
     ]
    },
    {
     "data": {
      "text/plain": [
       "'\\n\\nDirección\\nAsistida\\n\\n'"
      ]
     },
     "metadata": {},
     "output_type": "display_data"
    },
    {
     "name": "stdout",
     "output_type": "stream",
     "text": [
      "['', '', 'Dirección', 'Asistida', '', '']\n",
      "['', 'Dirección', 'Asistida', '', '']\n",
      "['Dirección', 'Asistida', '', '']\n",
      "['Dirección', 'Asistida', '']\n",
      "['Dirección', 'Asistida']\n"
     ]
    },
    {
     "data": {
      "text/plain": [
       "'\\n\\nMotor(cilindraje)\\n3800\\n\\n'"
      ]
     },
     "metadata": {},
     "output_type": "display_data"
    },
    {
     "name": "stdout",
     "output_type": "stream",
     "text": [
      "['', '', 'Motor(cilindraje)', '3800', '', '']\n",
      "['', 'Motor(cilindraje)', '3800', '', '']\n",
      "['Motor(cilindraje)', '3800', '', '']\n",
      "['Motor(cilindraje)', '3800', '']\n",
      "['Motor(cilindraje)', '3800']\n"
     ]
    },
    {
     "data": {
      "text/plain": [
       "'\\n\\nTapizado\\nTela\\n\\n'"
      ]
     },
     "metadata": {},
     "output_type": "display_data"
    },
    {
     "name": "stdout",
     "output_type": "stream",
     "text": [
      "['', '', 'Tapizado', 'Tela', '', '']\n",
      "['', 'Tapizado', 'Tela', '', '']\n",
      "['Tapizado', 'Tela', '', '']\n",
      "['Tapizado', 'Tela', '']\n",
      "['Tapizado', 'Tela']\n"
     ]
    },
    {
     "data": {
      "text/plain": [
       "'\\n\\nCombustible\\nGasolina\\n\\n'"
      ]
     },
     "metadata": {},
     "output_type": "display_data"
    },
    {
     "name": "stdout",
     "output_type": "stream",
     "text": [
      "['', '', 'Combustible', 'Gasolina', '', '']\n",
      "['', 'Combustible', 'Gasolina', '', '']\n",
      "['Combustible', 'Gasolina', '', '']\n",
      "['Combustible', 'Gasolina', '']\n",
      "['Combustible', 'Gasolina']\n"
     ]
    },
    {
     "data": {
      "text/plain": [
       "'\\n\\nPlaca\\nPichincha\\n\\n'"
      ]
     },
     "metadata": {},
     "output_type": "display_data"
    },
    {
     "name": "stdout",
     "output_type": "stream",
     "text": [
      "['', '', 'Placa', 'Pichincha', '', '']\n",
      "['', 'Placa', 'Pichincha', '', '']\n",
      "['Placa', 'Pichincha', '', '']\n",
      "['Placa', 'Pichincha', '']\n",
      "['Placa', 'Pichincha']\n"
     ]
    },
    {
     "ename": "ValueError",
     "evalue": "too many values to unpack (expected 2)",
     "output_type": "error",
     "traceback": [
      "\u001b[0;31m---------------------------------------------------------------------------\u001b[0m",
      "\u001b[0;31mValueError\u001b[0m                                Traceback (most recent call last)",
      "\u001b[0;32m/var/folders/t4/sw9j3r9902vd5vzs415gzt8r0000gn/T/ipykernel_72103/2207635989.py\u001b[0m in \u001b[0;36m<module>\u001b[0;34m\u001b[0m\n\u001b[1;32m     62\u001b[0m \u001b[0;34m\u001b[0m\u001b[0m\n\u001b[1;32m     63\u001b[0m \u001b[0;31m# Organizar la información en títulos y datos\u001b[0m\u001b[0;34m\u001b[0m\u001b[0;34m\u001b[0m\u001b[0m\n\u001b[0;32m---> 64\u001b[0;31m \u001b[0mtitulos\u001b[0m\u001b[0;34m,\u001b[0m\u001b[0mdatos\u001b[0m \u001b[0;34m=\u001b[0m \u001b[0mzip\u001b[0m\u001b[0;34m(\u001b[0m\u001b[0minfo\u001b[0m\u001b[0;34m)\u001b[0m\u001b[0;34m\u001b[0m\u001b[0;34m\u001b[0m\u001b[0m\n\u001b[0m\u001b[1;32m     65\u001b[0m \u001b[0mdisplay\u001b[0m\u001b[0;34m(\u001b[0m\u001b[0mtitulos\u001b[0m\u001b[0;34m)\u001b[0m\u001b[0;34m\u001b[0m\u001b[0;34m\u001b[0m\u001b[0m\n\u001b[1;32m     66\u001b[0m \u001b[0mdisplay\u001b[0m\u001b[0;34m(\u001b[0m\u001b[0mdatos\u001b[0m\u001b[0;34m)\u001b[0m\u001b[0;34m\u001b[0m\u001b[0;34m\u001b[0m\u001b[0m\n",
      "\u001b[0;31mValueError\u001b[0m: too many values to unpack (expected 2)"
     ]
    }
   ],
   "source": [
    "# Sacar la infromación del vehículo \n",
    "source = driver.page_source\n",
    "# Toda la página en source \n",
    "# Iniciar el lector de código web\n",
    "soup = BeautifulSoup(source)\n",
    "\n",
    "# Encontrar información espec´fiica del vehículo \n",
    "# Información básica \n",
    "\n",
    "basic = soup.find(\"div\", \"row m-t\")\n",
    "print(basic)\n",
    "\n",
    "# Hacer uns lista de información básica \n",
    "\n",
    "basics = basic.find_all(\"div\", \"col l3 m3 s6 p-b\")\n",
    "print(len(basics))\n",
    "display(basics[0].text)\n",
    "\n",
    "# For loop para limpiar esta información \n",
    "info = []\n",
    "\n",
    "for i in basics:\n",
    "    # Limpiar información \n",
    "    simple = i.text\n",
    "    simple = simple.replace(\"\\n\", \"\")\n",
    "    print(simple)\n",
    "    # Convertir los elementos de texto en una lista \n",
    "    tup = simple.split(\"  \")\n",
    "    print(tup)\n",
    "    while \"\" in tup: \n",
    "        tup.remove(\"\")\n",
    "        print(tup)\n",
    "    # Añadir la información limpia a una lista \n",
    "    tup = tuple(tup)\n",
    "    print(tup)\n",
    "    info.append(tup)\n",
    "    \n",
    "    \n",
    "#display(info)\n",
    "\n",
    "# Guardar infromación técnica de cada vehículo \n",
    "specific = soup.find(\"section\", id = \"technicalData\") #Elemento grande\n",
    "print(specific)\n",
    "\n",
    "specifics = specific.find_all(\"div\", \"col l4 m6 s6\")\n",
    "print(len(specifics))\n",
    "\n",
    "# For loop para limpiar la info \n",
    "\n",
    "for i in specifics: \n",
    "    #Definiedo la informacion \n",
    "    spec = i.text\n",
    "    display(spec)\n",
    "    #Separar la información \n",
    "    tup = spec.split(\"\\n\")\n",
    "    print(tup)\n",
    "    # Loop para limpiar \n",
    "    while \"\" in tup: \n",
    "        tup.remove(\"\")\n",
    "        print(tup)\n",
    "        info.append(tuple(tup))\n",
    "    \n",
    "# Organizar la información en títulos y datos \n",
    "titulos,datos = zip(info)\n",
    "display(titulos)\n",
    "display(datos)\n",
    "\n",
    "# Organizar esta información en un tabla \n",
    "tabla = pd.DataFrame([datos,datos], columns=titulos)\n",
    "\n",
    "tabla = tabla.drop_duplicates()\n",
    "\n",
    "# Regresar al menú principal \n",
    "driver.close()\n",
    "driver.swith_to.window(tabs[0])"
   ]
  },
  {
   "cell_type": "code",
   "execution_count": 35,
   "id": "3f873cb4",
   "metadata": {},
   "outputs": [
    {
     "data": {
      "text/plain": [
       "['T ', ' A ', ' U']"
      ]
     },
     "execution_count": 35,
     "metadata": {},
     "output_type": "execute_result"
    }
   ],
   "source": [
    "# Como funciona split\n",
    "a = \"T r A r U\"\n",
    "b = a.split(\"r\")\n",
    "b"
   ]
  }
 ],
 "metadata": {
  "kernelspec": {
   "display_name": "Python 3 (ipykernel)",
   "language": "python",
   "name": "python3"
  },
  "language_info": {
   "codemirror_mode": {
    "name": "ipython",
    "version": 3
   },
   "file_extension": ".py",
   "mimetype": "text/x-python",
   "name": "python",
   "nbconvert_exporter": "python",
   "pygments_lexer": "ipython3",
   "version": "3.9.13"
  }
 },
 "nbformat": 4,
 "nbformat_minor": 5
}
